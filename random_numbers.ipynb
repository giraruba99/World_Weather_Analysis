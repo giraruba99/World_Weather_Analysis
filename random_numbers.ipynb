{
 "cells": [
  {
   "cell_type": "code",
   "execution_count": 1,
   "id": "8dffbe54",
   "metadata": {},
   "outputs": [],
   "source": [
    "# Lets import our random module as follows\n",
    "\n",
    "import random"
   ]
  },
  {
   "cell_type": "code",
   "execution_count": 2,
   "id": "2eb40725",
   "metadata": {},
   "outputs": [
    {
     "data": {
      "text/plain": [
       "-67"
      ]
     },
     "execution_count": 2,
     "metadata": {},
     "output_type": "execute_result"
    }
   ],
   "source": [
    "random.randint(-90, 90)"
   ]
  },
  {
   "cell_type": "code",
   "execution_count": 3,
   "id": "b8798f43",
   "metadata": {},
   "outputs": [
    {
     "data": {
      "text/plain": [
       "0.8770210618379176"
      ]
     },
     "execution_count": 3,
     "metadata": {},
     "output_type": "execute_result"
    }
   ],
   "source": [
    "random.random()"
   ]
  },
  {
   "cell_type": "code",
   "execution_count": 4,
   "id": "18fc7c4e",
   "metadata": {},
   "outputs": [
    {
     "data": {
      "text/plain": [
       "-70.68805754259341"
      ]
     },
     "execution_count": 4,
     "metadata": {},
     "output_type": "execute_result"
    }
   ],
   "source": [
    "# non of the above methods will creat us a large amount of data.... lets combine them\n",
    "\n",
    "random_number = random.randint(-90, 90) + random.random()\n",
    "random_number"
   ]
  },
  {
   "cell_type": "code",
   "execution_count": 5,
   "id": "928d4055",
   "metadata": {},
   "outputs": [
    {
     "name": "stdout",
     "output_type": "stream",
     "text": [
      "[-70.3999498885747, -57.92740787295329, -5.5565143860749995, -78.38171977911466, -43.308538046172885, 79.91529079878671, 80.58909672390554, -27.23395000613407, 8.850942190580735, -4.633707749275849]\n"
     ]
    }
   ],
   "source": [
    "# lets create 10 random latitudes using the above 2 methods combined\n",
    "\n",
    "x = 1\n",
    "latitudes = []\n",
    "while x < 11:\n",
    "    random_lat = random.randint(-90, 90) + random.random()\n",
    "    latitudes.append(random_lat)\n",
    "    x += 1\n",
    "print(latitudes)\n"
   ]
  },
  {
   "cell_type": "code",
   "execution_count": 6,
   "id": "85f92e43",
   "metadata": {},
   "outputs": [
    {
     "data": {
      "text/plain": [
       "-41"
      ]
     },
     "execution_count": 6,
     "metadata": {},
     "output_type": "execute_result"
    }
   ],
   "source": [
    "# to get more efficient, lets employ another method that will give us better results\n",
    "\n",
    "random.randrange(-90, 90, step=1)"
   ]
  },
  {
   "cell_type": "code",
   "execution_count": 7,
   "id": "198a6ee8",
   "metadata": {},
   "outputs": [
    {
     "data": {
      "text/plain": [
       "-6"
      ]
     },
     "execution_count": 7,
     "metadata": {},
     "output_type": "execute_result"
    }
   ],
   "source": [
    "random.randrange(-90, 90, step=3)"
   ]
  },
  {
   "cell_type": "code",
   "execution_count": 8,
   "id": "40a9d221",
   "metadata": {},
   "outputs": [
    {
     "data": {
      "text/plain": [
       "45.71786218808744"
      ]
     },
     "execution_count": 8,
     "metadata": {},
     "output_type": "execute_result"
    }
   ],
   "source": [
    "# but this method does't add the floating decimal... thus we need to imploy random.random()\n",
    "\n",
    "random_lati = random.randrange(-90, 90, step=3) + random.random()\n",
    "random_lati"
   ]
  },
  {
   "cell_type": "code",
   "execution_count": 9,
   "id": "72e556b8",
   "metadata": {},
   "outputs": [
    {
     "data": {
      "text/plain": [
       "-15.901844530508782"
      ]
     },
     "execution_count": 9,
     "metadata": {},
     "output_type": "execute_result"
    }
   ],
   "source": [
    "# we still have another efficient method that gets us better resul\n",
    "\n",
    "random.uniform(-90, 90)"
   ]
  },
  {
   "cell_type": "code",
   "execution_count": 10,
   "id": "d184f2c9",
   "metadata": {},
   "outputs": [],
   "source": [
    "# since none of the above  4 methods can generate us thousands of random lat and long, we need to use them with NumPy... \n",
    "# import NumPy\n",
    "import numpy as np"
   ]
  },
  {
   "cell_type": "code",
   "execution_count": 11,
   "id": "5ab11127",
   "metadata": {},
   "outputs": [
    {
     "data": {
      "text/plain": [
       "28.630176025738322"
      ]
     },
     "execution_count": 11,
     "metadata": {},
     "output_type": "execute_result"
    }
   ],
   "source": [
    "np.random.uniform(-90.000, 90.000)"
   ]
  },
  {
   "cell_type": "code",
   "execution_count": 12,
   "id": "24e5437c",
   "metadata": {},
   "outputs": [
    {
     "data": {
      "text/plain": [
       "55.2393801495229"
      ]
     },
     "execution_count": 12,
     "metadata": {},
     "output_type": "execute_result"
    }
   ],
   "source": [
    "np.random.uniform(-90, 90)"
   ]
  },
  {
   "cell_type": "code",
   "execution_count": 13,
   "id": "30dd38d5",
   "metadata": {},
   "outputs": [
    {
     "data": {
      "text/plain": [
       "array([ -4.88740383, -89.86466296,  35.29640767,  85.75826114,\n",
       "        76.5601227 ,  21.20596424, -66.21370481, -28.09384232,\n",
       "        17.34912228,  38.31538666, -80.63379371,  62.71623121,\n",
       "       -47.71481122, -67.26003501, -15.98883011,  -7.69206558,\n",
       "       -42.15295786, -50.47510023,  63.72656913,  60.31579553,\n",
       "        39.17330554, -51.74425959, -60.09707407, -17.48846565,\n",
       "       -13.03360152,  22.66768513, -72.37855371,  -0.54658295,\n",
       "       -32.28480973,  52.96791082,  30.99942882, -22.75913369,\n",
       "       -21.99571145, -71.0620868 , -30.37030234,  60.12110271,\n",
       "       -16.75438812,  22.73075114, -27.88929872, -43.42299855,\n",
       "       -57.21889796, -64.20888037, -59.91701187, -44.13858938,\n",
       "        88.06000636,  10.43148198, -29.13691916, -87.31658401,\n",
       "        80.92942045,  16.17265148, -28.8745549 ,  18.50297909,\n",
       "        64.76311907, -35.94999805, -20.2996185 ,  48.68592467,\n",
       "        37.14709205,  -4.63626623, -46.41649675, -59.89780586,\n",
       "       -47.7371175 ,  33.96176695,  -9.34700223,   5.11408806,\n",
       "        38.59581609,  75.72238309, -36.42636894,  50.91374687,\n",
       "        88.85954891,  24.93376651,  82.19705108,  -7.12058426,\n",
       "        59.99897608, -58.14078205,  83.81400755,  27.3253631 ,\n",
       "       -20.09062123,  70.03611802, -45.99126908, -63.39597869,\n",
       "       -16.08858   , -45.10603401,  89.9212727 , -17.44840096,\n",
       "        23.97850316,  45.59674068, -84.56602305,  74.69295631,\n",
       "        10.05811788,  82.66538266, -39.56477235,  59.26540596,\n",
       "        38.48603225,  38.08600554, -28.68687229, -66.0240147 ,\n",
       "        30.5679413 , -28.39817841,  28.80563462,  -6.27068139])"
      ]
     },
     "execution_count": 13,
     "metadata": {},
     "output_type": "execute_result"
    }
   ],
   "source": [
    "np.random.uniform(-90, 90, size=100)"
   ]
  },
  {
   "cell_type": "code",
   "execution_count": 14,
   "id": "df201ca3",
   "metadata": {},
   "outputs": [],
   "source": [
    "# do you want to test how long it takes to run a piece of code? if yes... import timeit module\n",
    "\n",
    "import timeit"
   ]
  },
  {
   "cell_type": "code",
   "execution_count": 15,
   "id": "8f2ccc89",
   "metadata": {},
   "outputs": [
    {
     "name": "stdout",
     "output_type": "stream",
     "text": [
      "3.61 µs ± 54.9 ns per loop (mean ± std. dev. of 7 runs, 100000 loops each)\n"
     ]
    }
   ],
   "source": [
    "%timeit np.random.uniform(-90, 90, size=100)"
   ]
  },
  {
   "cell_type": "code",
   "execution_count": 16,
   "id": "d9218efa",
   "metadata": {},
   "outputs": [
    {
     "name": "stdout",
     "output_type": "stream",
     "text": [
      "14.4 µs ± 255 ns per loop (mean ± std. dev. of 7 runs, 100000 loops each)\n"
     ]
    }
   ],
   "source": [
    "%timeit np.random.uniform(-90, 90, size=1500)"
   ]
  },
  {
   "cell_type": "code",
   "execution_count": 17,
   "id": "07e6ab46",
   "metadata": {},
   "outputs": [
    {
     "name": "stdout",
     "output_type": "stream",
     "text": [
      "9.14 ms ± 403 µs per loop (mean ± std. dev. of 7 runs, 100 loops each)\n"
     ]
    }
   ],
   "source": [
    "%timeit np.random.uniform(-90, 90, size=1000000)"
   ]
  },
  {
   "cell_type": "code",
   "execution_count": 18,
   "id": "1720d8b5",
   "metadata": {},
   "outputs": [
    {
     "name": "stdout",
     "output_type": "stream",
     "text": [
      "1.74 ms ± 272 µs per loop (mean ± std. dev. of 7 runs, 100 loops each)\n"
     ]
    }
   ],
   "source": [
    "def latitudes(size):\n",
    "    latitudes = []\n",
    "    x = 0\n",
    "    while x < (size):\n",
    "        random_lat = random.randint(-90, 90) + random.random()\n",
    "        latitudes.append(random_lat)\n",
    "        x += 1\n",
    "    return latitudes\n",
    "# Call the function with 1500.\n",
    "%timeit latitudes(1500)\n"
   ]
  }
 ],
 "metadata": {
  "kernelspec": {
   "display_name": "PythonData",
   "language": "python",
   "name": "pythondata"
  },
  "language_info": {
   "codemirror_mode": {
    "name": "ipython",
    "version": 3
   },
   "file_extension": ".py",
   "mimetype": "text/x-python",
   "name": "python",
   "nbconvert_exporter": "python",
   "pygments_lexer": "ipython3",
   "version": "3.7.10"
  }
 },
 "nbformat": 4,
 "nbformat_minor": 5
}
